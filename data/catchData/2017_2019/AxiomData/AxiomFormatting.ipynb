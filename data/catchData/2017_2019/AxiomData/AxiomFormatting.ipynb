{
 "cells": [
  {
   "cell_type": "code",
   "execution_count": 1,
   "metadata": {},
   "outputs": [],
   "source": [
    "import pandas as pd"
   ]
  },
  {
   "cell_type": "code",
   "execution_count": 20,
   "metadata": {},
   "outputs": [],
   "source": [
    "species = {21725:'Boreogadus saida',23041:'Mallotus catervarius', 21110:'Clupea pallasii',21735:'Eleginus gracilis', 21744:'Gadus chalcogrammus', 21720:'Gadus macrocephalus'}\n",
    "cur = pd.read_csv('../mbaCatchResults_2017.csv')\n",
    "cur = cur[['INTERVAL','END_LATITUDE','END_LONGITUDE','MEAN_BOTTOM_DEPTH','LAYER','SPECIES_CODE','LENGTH','NUMBERS','NUMBERS_NM2']]\n",
    "cur = cur.rename(columns={'INTERVAL':'Interval','END_LATITUDE':'Latitude',\n",
    "                    'END_LONGITUDE':'Longitude','MEAN_BOTTOM_DEPTH':'Mean Bottom Depth',\n",
    "                    'LAYER':'Depth Layer','SPECIES_CODE':'Species','LENGTH':'Length Bin',\n",
    "                    'NUMBERS':'Numbers', 'NUMBERS_NM2':'Numbers nmi^-2'})\n",
    "cur = cur.replace({'Species':species})\n",
    "cur = cur[(cur.Longitude!=999) | (cur.Latitude!=999)]\n",
    "cur.to_csv('Arctic_EIS_Acoustic_trawl_complete_2017.csv')"
   ]
  },
  {
   "cell_type": "code",
   "execution_count": 21,
   "metadata": {},
   "outputs": [],
   "source": [
    "species = {21725:'Boreogadus saida',23041:'Mallotus catervarius', 21110:'Clupea pallasii',21735:'Eleginus gracilis', 21744:'Gadus chalcogrammus', 21720:'Gadus macrocephalus'}\n",
    "cur = pd.read_csv('../mbaCatchResults_2019.csv')\n",
    "cur = cur[['INTERVAL','END_LATITUDE','END_LONGITUDE','MEAN_BOTTOM_DEPTH','LAYER','SPECIES_CODE','LENGTH','NUMBERS','NUMBERS_NM2']]\n",
    "cur = cur.rename(columns={'INTERVAL':'Interval','END_LATITUDE':'Latitude',\n",
    "                    'END_LONGITUDE':'Longitude','MEAN_BOTTOM_DEPTH':'Mean Bottom Depth',\n",
    "                    'LAYER':'Depth Layer','SPECIES_CODE':'Species','LENGTH':'Length Bin',\n",
    "                    'NUMBERS':'Numbers', 'NUMBERS_NM2':'Numbers nmi^-2'})\n",
    "cur = cur.replace({'Species':species})\n",
    "cur = cur[(cur.Longitude!=999) | (cur.Latitude!=999)]\n",
    "cur.to_csv('Arctic_EIS_Acoustic_trawl_complete_2019.csv')"
   ]
  },
  {
   "cell_type": "markdown",
   "metadata": {},
   "source": [
    "# For Kuletz"
   ]
  },
  {
   "cell_type": "code",
   "execution_count": 32,
   "metadata": {},
   "outputs": [
    {
     "data": {
      "application/vnd.jupyter.widget-view+json": {
       "model_id": "cf9cf005e6ca4925b4fcdf2c3640118d",
       "version_major": 2,
       "version_minor": 0
      },
      "text/plain": [
       "HBox(children=(HTML(value=''), FloatProgress(value=0.0, max=2552.0), HTML(value='')))"
      ]
     },
     "metadata": {},
     "output_type": "display_data"
    },
    {
     "name": "stdout",
     "output_type": "stream",
     "text": [
      "\n"
     ]
    }
   ],
   "source": [
    "from tqdm.notebook import tqdm\n",
    "import pandas as pd\n",
    "\n",
    "df = pd.read_csv('../mbaCatchResults_2019.csv')\n",
    "a = df.groupby(['INTERVAL','END_LATITUDE','END_LONGITUDE']).mean().reset_index()[['INTERVAL','END_LATITUDE','END_LONGITUDE']]\n",
    "b = a[(a.END_LATITUDE<999)&(a.END_LONGITUDE<999)]\n",
    "\n",
    "intervals = sorted(b.INTERVAL.unique())\n",
    "specs = df.SPECIES_CODE.unique()\n",
    "\n",
    "sNames = {21725:'Boreogadus saida',23041:'Mallotus catervarius', 21110:'Clupea pallasii',21735:'Eleginus gracilis', 21744:'Gadus chalcogrammus', 21720:'Gadus macrocephalus'}\n",
    "sgLab = {0:'0-5.5 cm',5:'5.5-10.5 cm', 10:'>10.5 cm'}\n",
    "dzLab = {0:'6.5-20m',4:'20-40m', 8:'40-60m',12:'60-80m',16:'>80m'}\n",
    "\n",
    "minD = [0,4,8,12,16]\n",
    "maxD = [4,8,12,16,100]\n",
    "minL = [0,5,10]\n",
    "maxL = [5,10,100]\n",
    "\n",
    "\n",
    "num, ints, spec,dz,sg=[],[],[],[],[]\n",
    "\n",
    "for i in tqdm(intervals):\n",
    "    for s in specs:\n",
    "        if s == 21740:\n",
    "            continue\n",
    "        for ctD in range(len(maxD)):\n",
    "            for ctL in range(len(maxL)):\n",
    "                if s == 21744:\n",
    "                    num.append(df[(df.INTERVAL==i)&(df.SPECIES_CODE.isin([21740,21744]))&(df.LAYER>minD[ctD])&(df.LAYER<=maxD[ctD])&(df.LENGTH>minL[ctL])&(df.LENGTH<=maxL[ctL])].sum().NUMBERS_NM2)\n",
    "                else:\n",
    "                    num.append(df[(df.INTERVAL==i)&(df.SPECIES_CODE==s)&(df.LAYER>minD[ctD])&(df.LAYER<=maxD[ctD])&(df.LENGTH>minL[ctL])&(df.LENGTH<=maxL[ctL])].sum().NUMBERS_NM2)\n",
    "                ints.append(i)\n",
    "                spec.append(s)\n",
    "                dz.append(minD[ctD])\n",
    "                sg.append(minL[ctL])"
   ]
  },
  {
   "cell_type": "code",
   "execution_count": 41,
   "metadata": {},
   "outputs": [],
   "source": [
    "sNames = {21725:'Boreogadus saida',23041:'Mallotus catervarius', 21110:'Clupea pallasii',21735:'Eleginus gracilis', 21740:'Gadus chalcogrammus',21744:'Gadus chalcogrammus', 21720:'Gadus macrocephalus'}\n",
    "test = pd.DataFrame({'Species':[sNames[k] for k in spec],'Size_group':[sgLab[k] for k in sg],'Depth_zone':[dzLab[k] for k in dz],'Interval':ints,'Density_fish_nmi_squared':num})\n",
    "test['Density_fish_km_squared'] = test.Density_fish_nmi_squared*(1/(1.852*1.852))\n",
    "sgLab = {0:'0-5.5 cm',5:'5.5-10.5 cm', 10:'>10.5 cm'}\n",
    "dzLab = {0:'6.5-20m',4:'20-40m', 8:'40-60m',12:'60-80m',16:'>80m'}\n",
    "test2 = pd.merge(test, b.rename(columns={'INTERVAL':'Interval','END_LATITUDE':'Latitude','END_LONGITUDE':'Longitude'}),on='Interval')\n",
    "test2[['Species', 'Size_group', 'Depth_zone', 'Interval','Latitude','Longitude','Density_fish_nmi_squared', 'Density_fish_km_squared']].to_csv('Arctic_IES_Acoustic_trawl_Kuletz_2019_v3.csv',index=False)"
   ]
  }
 ],
 "metadata": {
  "kernelspec": {
   "display_name": "Python 3",
   "language": "python",
   "name": "python3"
  },
  "language_info": {
   "codemirror_mode": {
    "name": "ipython",
    "version": 3
   },
   "file_extension": ".py",
   "mimetype": "text/x-python",
   "name": "python",
   "nbconvert_exporter": "python",
   "pygments_lexer": "ipython3",
   "version": "3.8.5"
  }
 },
 "nbformat": 4,
 "nbformat_minor": 4
}
