{
 "cells": [
  {
   "cell_type": "code",
   "execution_count": 1,
   "metadata": {},
   "outputs": [],
   "source": [
    "import pandas as pd"
   ]
  },
  {
   "cell_type": "code",
   "execution_count": 20,
   "metadata": {},
   "outputs": [],
   "source": [
    "species = {21725:'Boreogadus saida',23041:'Mallotus catervarius', 21110:'Clupea pallasii',21735:'Eleginus gracilis', 21744:'Gadus chalcogrammus', 21720:'Gadus macrocephalus'}\n",
    "cur = pd.read_csv('../mbaCatchResults_2017.csv')\n",
    "cur = cur[['INTERVAL','END_LATITUDE','END_LONGITUDE','MEAN_BOTTOM_DEPTH','LAYER','SPECIES_CODE','LENGTH','NUMBERS','NUMBERS_NM2']]\n",
    "cur = cur.rename(columns={'INTERVAL':'Interval','END_LATITUDE':'Latitude',\n",
    "                    'END_LONGITUDE':'Longitude','MEAN_BOTTOM_DEPTH':'Mean Bottom Depth',\n",
    "                    'LAYER':'Depth Layer','SPECIES_CODE':'Species','LENGTH':'Length Bin',\n",
    "                    'NUMBERS':'Numbers', 'NUMBERS_NM2':'Numbers nmi^-2'})\n",
    "cur = cur.replace({'Species':species})\n",
    "cur = cur[(cur.Longitude!=999) | (cur.Latitude!=999)]\n",
    "cur.to_csv('Arctic_EIS_Acoustic_trawl_complete_2017.csv')"
   ]
  },
  {
   "cell_type": "code",
   "execution_count": 21,
   "metadata": {},
   "outputs": [],
   "source": [
    "species = {21725:'Boreogadus saida',23041:'Mallotus catervarius', 21110:'Clupea pallasii',21735:'Eleginus gracilis', 21744:'Gadus chalcogrammus', 21720:'Gadus macrocephalus'}\n",
    "cur = pd.read_csv('../mbaCatchResults_2019.csv')\n",
    "cur = cur[['INTERVAL','END_LATITUDE','END_LONGITUDE','MEAN_BOTTOM_DEPTH','LAYER','SPECIES_CODE','LENGTH','NUMBERS','NUMBERS_NM2']]\n",
    "cur = cur.rename(columns={'INTERVAL':'Interval','END_LATITUDE':'Latitude',\n",
    "                    'END_LONGITUDE':'Longitude','MEAN_BOTTOM_DEPTH':'Mean Bottom Depth',\n",
    "                    'LAYER':'Depth Layer','SPECIES_CODE':'Species','LENGTH':'Length Bin',\n",
    "                    'NUMBERS':'Numbers', 'NUMBERS_NM2':'Numbers nmi^-2'})\n",
    "cur = cur.replace({'Species':species})\n",
    "cur = cur[(cur.Longitude!=999) | (cur.Latitude!=999)]\n",
    "cur.to_csv('Arctic_EIS_Acoustic_trawl_complete_2019.csv')"
   ]
  }
 ],
 "metadata": {
  "kernelspec": {
   "display_name": "Python 3",
   "language": "python",
   "name": "python3"
  },
  "language_info": {
   "codemirror_mode": {
    "name": "ipython",
    "version": 3
   },
   "file_extension": ".py",
   "mimetype": "text/x-python",
   "name": "python",
   "nbconvert_exporter": "python",
   "pygments_lexer": "ipython3",
   "version": "3.8.5"
  }
 },
 "nbformat": 4,
 "nbformat_minor": 4
}
