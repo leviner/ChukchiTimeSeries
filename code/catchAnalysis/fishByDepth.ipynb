{
 "cells": [
  {
   "cell_type": "markdown",
   "metadata": {},
   "source": [
    "What I'd like to do here is some sort of abundance by depth look at the arctic cod vs pollock which can later be lined up with the CTD data. I didn't have this in mind when I was making the original spreadhseets since it's not something that was done in 2012 and 2013. My guess is that at the 5m resolution of the depth bins, I will not be able to distinguish anything."
   ]
  },
  {
   "cell_type": "code",
   "execution_count": 21,
   "metadata": {},
   "outputs": [],
   "source": [
    "import pandas as pd\n",
    "import numpy as np\n",
    "import matplotlib.pyplot as plt\n",
    "dfSurvey = pd.read_csv('../../data/catchData/2017_2019/mbaCatchResults.csv')"
   ]
  },
  {
   "cell_type": "code",
   "execution_count": 39,
   "metadata": {},
   "outputs": [
    {
     "data": {
      "text/plain": [
       "[<matplotlib.lines.Line2D at 0x165be46dee0>]"
      ]
     },
     "execution_count": 39,
     "metadata": {},
     "output_type": "execute_result"
    },
    {
     "data": {
      "image/png": "[encoded data removed]",
      "text/plain": [
       "<Figure size 432x288 with 1 Axes>"
      ]
     },
     "metadata": {
      "needs_background": "light"
     },
     "output_type": "display_data"
    }
   ],
   "source": [
    "df = dfSurvey[dfSurvey.SURVEY==201901]\n",
    "plt.plot(np.arange(2,51,1),df[df.SPECIES_CODE == 21725].groupby('LAYER').sum()['NUMBERS']/sum(df[df.SPECIES_CODE == 21725].groupby('LAYER').sum()['NUMBERS']),'.')\n",
    "plt.plot(np.arange(2,51,1),df[df.SPECIES_CODE == 21744].groupby('LAYER').sum()['NUMBERS']/sum(df[df.SPECIES_CODE == 21744].groupby('LAYER').sum()['NUMBERS']),'.')\n"
   ]
  },
  {
   "cell_type": "code",
   "execution_count": 35,
   "metadata": {},
   "outputs": [
    {
     "data": {
      "text/plain": [
       "LAYER\n",
       "2     1.079898e+06\n",
       "3     1.635823e+06\n",
       "4     1.666519e+06\n",
       "5     1.370060e+06\n",
       "6     6.311566e+05\n",
       "7     7.088977e+05\n",
       "8     1.105799e+06\n",
       "9     2.155410e+06\n",
       "10    1.480259e+06\n",
       "11    2.683664e+05\n",
       "12    1.348319e+05\n",
       "Name: NUMBERS, dtype: float64"
      ]
     },
     "execution_count": 35,
     "metadata": {},
     "output_type": "execute_result"
    }
   ],
   "source": [
    "df[df.SPECIES_CODE == 21740].groupby('LAYER').sum()['NUMBERS']"
   ]
  }
 ],
 "metadata": {
  "kernelspec": {
   "display_name": "Python 3",
   "language": "python",
   "name": "python3"
  },
  "language_info": {
   "codemirror_mode": {
    "name": "ipython",
    "version": 3
   },
   "file_extension": ".py",
   "mimetype": "text/x-python",
   "name": "python",
   "nbconvert_exporter": "python",
   "pygments_lexer": "ipython3",
   "version": "3.8.5"
  }
 },
 "nbformat": 4,
 "nbformat_minor": 4
}
