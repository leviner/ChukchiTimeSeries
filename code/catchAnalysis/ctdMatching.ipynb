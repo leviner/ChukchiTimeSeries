{
 "cells": [
  {
   "cell_type": "code",
   "execution_count": 250,
   "metadata": {},
   "outputs": [],
   "source": [
    "import pandas as pd\n",
    "from glob import glob\n",
    "import gsw\n",
    "import numpy as np\n",
    "from geopy.distance import distance\n",
    "\n",
    "df2012 = pd.read_csv('../../data/acousticData/2012_2013/Arctic_EIS_Acoustic_trawl_survey_alongtrack_summary_2012_v2.csv')\n",
    "df2013 = pd.read_csv('../../data/acousticData/2012_2013/Arctic_EIS_Acoustic_trawl_survey_alongtrack_summary_2013_v2.csv')\n",
    "df2012Acoustics = df2012.iloc[:, [0,1,2,3,4]]\n",
    "df2013Acoustics = df2013.iloc[:, [0,1,2,3,4]]\n",
    "df2018Acoustics = pd.read_csv('../../data/acousticData/2017_2019/Arctic_EIS_Acoustic_trawl_survey_alongtrack_summary_2017.csv')\n",
    "df2017Acoustics = pd.read_csv('../../data/acousticData/2018/Arctic_EIS_Acoustic_trawl_survey_alongtrack_summary_2018.csv')\n",
    "df2017Acoustics = df2017Acoustics[df2017Acoustics.Latitude!=999]\n",
    "df2019Acoustics = pd.read_csv('../../data/acousticData/2017_2019/Arctic_EIS_Acoustic_trawl_survey_alongtrack_summary_2019.csv')\n",
    "df2019Acoustics = df2019Acoustics[df2019Acoustics.Latitude!=999]\n",
    "\n",
    "df2012Catch = df2012.iloc[:, [0,1,2,5,6,7,8]]\n",
    "df2013Catch = df2013.iloc[:, [0,1,2,5,6,7,8]]\n",
    "df2017Catch = pd.read_csv('../../data/catchData/2017_2019/Arctic_EIS_Acoustic_trawl_survey_alongtrack_summary_2017.csv')\n",
    "df2017Catch = df2017Catch[df2017Catch.Latitude!=999]\n",
    "df2019Catch = pd.read_csv('../../data/catchData/2017_2019/Arctic_EIS_Acoustic_trawl_survey_alongtrack_summary_2019.csv')\n",
    "df2019Catch = df2019Catch[df2019Catch.Latitude!=999]\n",
    "\n",
    "dfCTD = pd.concat([pd.read_csv(file) for file in glob('../../data/physicalData/*.csv')])\n",
    "dfCTD = dfCTD[dfCTD['profile_id'].notna()]\n",
    "dfCTD = dfCTD.drop(labels=['S_42'],axis=1)\n",
    "dfCTD = dfCTD.astype({'pressure': float, 'latitude': float, 'longitude': float, 'S_41': float, 'T2_35': float,'T_28': float})\n",
    "dfCTD['time'] = pd.to_datetime(dfCTD.time)\n",
    "dfCTD['depth'] = -1*gsw.z_from_p(dfCTD.pressure, dfCTD.latitude)\n",
    "dfCTD = dfCTD.sort_values(by='time')\n",
    "dfCTD2017 = dfCTD[(dfCTD.time.dt.year == 2017) & (dfCTD.time > pd.to_datetime('8-24-2017').tz_localize ('UTC'))]\n",
    "dfCTD2019 = dfCTD[(dfCTD.time.dt.year == 2019) & (dfCTD.time > pd.to_datetime('8-23-2019').tz_localize ('UTC'))]\n",
    "dfCTD_clean = pd.concat([dfCTD2017,dfCTD2019])"
   ]
  },
  {
   "cell_type": "code",
   "execution_count": 251,
   "metadata": {},
   "outputs": [],
   "source": [
    "def ctdStationRadius(df):\n",
    "    dfStations = df[['profile_id','latitude','longitude','time']].drop_duplicates()\n",
    "    dists = []\n",
    "    for year in df.time.dt.year.unique():\n",
    "        dfCur = dfStations[dfStations.time.dt.year == year]\n",
    "        nPoints = len(dfCur.latitude)\n",
    "        for i in range(nPoints):\n",
    "            curDists = []\n",
    "            for ii in range(nPoints):\n",
    "                if ii == i:\n",
    "                    continue\n",
    "                curDists.append(distance((dfCur.latitude.values[i],dfCur.longitude.values[i]),(dfCur.latitude.values[ii],dfCur.longitude.values[ii])).nm)\n",
    "            dists.append(np.min(curDists))\n",
    "    dfStations['TrackRadius'] = np.array(dists)/2\n",
    "    \n",
    "    S_max, S_min, S_surf, S_bot, S_mean, T_min, T_max, T_surf, T_bot, T_mean = [[] for i in range(10)]\n",
    "\n",
    "    for pid in df.profile_id.unique():\n",
    "        S_max.append(df[(df.profile_id==pid)].S_41.max())\n",
    "        S_min.append(df[(df.profile_id==pid)].S_41.min())\n",
    "        S_surf.append(df[(df.profile_id==pid)&(df.depth < 5)].S_41.mean())\n",
    "        S_bot.append(df[(df.profile_id==pid)&(df.depth > df[(df.profile_id==pid)].depth.max()-5)].S_41.mean())\n",
    "        S_mean.append(df[(df.profile_id==pid)].S_41.mean())\n",
    "        T_max.append(df[(df.profile_id==pid)].T_28.max())\n",
    "        T_min.append(df[(df.profile_id==pid)].T_28.min())\n",
    "        T_surf.append(df[(df.profile_id==pid)&(df.depth < 5)].T_28.mean())\n",
    "        T_bot.append(df[(df.profile_id==pid)&(df.depth > df[(df.profile_id==pid)].depth.max()-5)].T_28.mean())\n",
    "        T_mean.append(df[(df.profile_id==pid)].T_28.mean())\n",
    "    dfStats = pd.DataFrame({'profile_id':df.profile_id.unique(),'S_max':S_max, 'S_min':S_min, 'S_surf':S_surf, 'S_bot':S_bot,'S_mean':S_mean, 'T_min':T_min, 'T_max':T_max, 'T_surf':T_surf, 'T_bot':T_bot,'T_mean':T_mean})\n",
    "    return dfStations.merge(dfStats)"
   ]
  },
  {
   "cell_type": "code",
   "execution_count": 252,
   "metadata": {},
   "outputs": [
    {
     "name": "stdout",
     "output_type": "stream",
     "text": [
      "2017\n"
     ]
    },
    {
     "name": "stderr",
     "output_type": "stream",
     "text": [
      "<ipython-input-252-e4ad542363c6>:13: TqdmDeprecationWarning: This function will be removed in tqdm==5.0.0\n",
      "Please use `tqdm.notebook.tqdm` instead of `tqdm.tqdm_notebook`\n",
      "  for i in tqdm(range(len(dfEnvCur))):\n"
     ]
    },
    {
     "data": {
      "application/vnd.jupyter.widget-view+json": {
       "model_id": "d6b06df4e47848369746ce91c6530c40",
       "version_major": 2,
       "version_minor": 0
      },
      "text/plain": [
       "HBox(children=(HTML(value=''), FloatProgress(value=0.0, max=72.0), HTML(value='')))"
      ]
     },
     "metadata": {},
     "output_type": "display_data"
    },
    {
     "name": "stderr",
     "output_type": "stream",
     "text": [
      "<ipython-input-252-e4ad542363c6>:27: RuntimeWarning: Mean of empty slice\n",
      "  meanSa.append(np.nanmean(curSa))\n",
      "<ipython-input-252-e4ad542363c6>:28: RuntimeWarning: Mean of empty slice\n",
      "  meanAcod.append(np.nanmean(curAcod))\n",
      "<ipython-input-252-e4ad542363c6>:29: RuntimeWarning: Mean of empty slice\n",
      "  meanScod.append(np.nanmean(curScod))\n",
      "<ipython-input-252-e4ad542363c6>:30: RuntimeWarning: Mean of empty slice\n",
      "  meanPcod.append(np.nanmean(curPcod))\n",
      "<ipython-input-252-e4ad542363c6>:31: RuntimeWarning: Mean of empty slice\n",
      "  meanPol.append(np.nanmean(curPol))\n",
      "<ipython-input-252-e4ad542363c6>:32: RuntimeWarning: Mean of empty slice\n",
      "  meanCap.append(np.nanmean(curCap))\n"
     ]
    },
    {
     "name": "stdout",
     "output_type": "stream",
     "text": [
      "\n",
      "2019\n"
     ]
    },
    {
     "name": "stderr",
     "output_type": "stream",
     "text": [
      "<ipython-input-252-e4ad542363c6>:13: TqdmDeprecationWarning: This function will be removed in tqdm==5.0.0\n",
      "Please use `tqdm.notebook.tqdm` instead of `tqdm.tqdm_notebook`\n",
      "  for i in tqdm(range(len(dfEnvCur))):\n"
     ]
    },
    {
     "data": {
      "application/vnd.jupyter.widget-view+json": {
       "model_id": "e8f63b22f25a4e02910ccd82aa0b3631",
       "version_major": 2,
       "version_minor": 0
      },
      "text/plain": [
       "HBox(children=(HTML(value=''), FloatProgress(value=0.0, max=50.0), HTML(value='')))"
      ]
     },
     "metadata": {},
     "output_type": "display_data"
    },
    {
     "name": "stderr",
     "output_type": "stream",
     "text": [
      "<ipython-input-252-e4ad542363c6>:27: RuntimeWarning: Mean of empty slice\n",
      "  meanSa.append(np.nanmean(curSa))\n",
      "<ipython-input-252-e4ad542363c6>:28: RuntimeWarning: Mean of empty slice\n",
      "  meanAcod.append(np.nanmean(curAcod))\n",
      "<ipython-input-252-e4ad542363c6>:29: RuntimeWarning: Mean of empty slice\n",
      "  meanScod.append(np.nanmean(curScod))\n",
      "<ipython-input-252-e4ad542363c6>:30: RuntimeWarning: Mean of empty slice\n",
      "  meanPcod.append(np.nanmean(curPcod))\n",
      "<ipython-input-252-e4ad542363c6>:31: RuntimeWarning: Mean of empty slice\n",
      "  meanPol.append(np.nanmean(curPol))\n",
      "<ipython-input-252-e4ad542363c6>:32: RuntimeWarning: Mean of empty slice\n",
      "  meanCap.append(np.nanmean(curCap))\n"
     ]
    },
    {
     "name": "stdout",
     "output_type": "stream",
     "text": [
      "\n"
     ]
    },
    {
     "data": {
      "text/html": [
       "<div>\n",
       "<style scoped>\n",
       "    .dataframe tbody tr th:only-of-type {\n",
       "        vertical-align: middle;\n",
       "    }\n",
       "\n",
       "    .dataframe tbody tr th {\n",
       "        vertical-align: top;\n",
       "    }\n",
       "\n",
       "    .dataframe thead th {\n",
       "        text-align: right;\n",
       "    }\n",
       "</style>\n",
       "<table border=\"1\" class=\"dataframe\">\n",
       "  <thead>\n",
       "    <tr style=\"text-align: right;\">\n",
       "      <th></th>\n",
       "      <th>profile_id</th>\n",
       "      <th>latitude</th>\n",
       "      <th>longitude</th>\n",
       "      <th>time</th>\n",
       "      <th>TrackRadius</th>\n",
       "      <th>S_max</th>\n",
       "      <th>S_min</th>\n",
       "      <th>S_surf</th>\n",
       "      <th>S_bot</th>\n",
       "      <th>S_mean</th>\n",
       "      <th>...</th>\n",
       "      <th>T_max</th>\n",
       "      <th>T_surf</th>\n",
       "      <th>T_bot</th>\n",
       "      <th>T_mean</th>\n",
       "      <th>meanSa</th>\n",
       "      <th>meanAcod</th>\n",
       "      <th>meanScod</th>\n",
       "      <th>meanPcod</th>\n",
       "      <th>meanPol</th>\n",
       "      <th>meanCap</th>\n",
       "    </tr>\n",
       "  </thead>\n",
       "  <tbody>\n",
       "    <tr>\n",
       "      <th>0</th>\n",
       "      <td>os1701l2c062_ctd</td>\n",
       "      <td>72.498340</td>\n",
       "      <td>194.81616</td>\n",
       "      <td>2017-08-29 14:42:39+00:00</td>\n",
       "      <td>14.958053</td>\n",
       "      <td>32.6617</td>\n",
       "      <td>31.4536</td>\n",
       "      <td>31.4536</td>\n",
       "      <td>32.657567</td>\n",
       "      <td>32.186487</td>\n",
       "      <td>...</td>\n",
       "      <td>6.6152</td>\n",
       "      <td>5.0051</td>\n",
       "      <td>1.892467</td>\n",
       "      <td>4.880304</td>\n",
       "      <td>35.644882</td>\n",
       "      <td>4.782810</td>\n",
       "      <td>0.0</td>\n",
       "      <td>0.0</td>\n",
       "      <td>0.000000</td>\n",
       "      <td>0.0</td>\n",
       "    </tr>\n",
       "    <tr>\n",
       "      <th>1</th>\n",
       "      <td>os1701l2c063_ctd</td>\n",
       "      <td>72.498665</td>\n",
       "      <td>196.49066</td>\n",
       "      <td>2017-08-29 22:39:37+00:00</td>\n",
       "      <td>0.223941</td>\n",
       "      <td>32.5589</td>\n",
       "      <td>31.5288</td>\n",
       "      <td>31.5288</td>\n",
       "      <td>32.556367</td>\n",
       "      <td>32.064659</td>\n",
       "      <td>...</td>\n",
       "      <td>6.0815</td>\n",
       "      <td>4.9293</td>\n",
       "      <td>1.327800</td>\n",
       "      <td>3.948711</td>\n",
       "      <td>NaN</td>\n",
       "      <td>7.640446</td>\n",
       "      <td>0.0</td>\n",
       "      <td>0.0</td>\n",
       "      <td>0.002856</td>\n",
       "      <td>0.0</td>\n",
       "    </tr>\n",
       "    <tr>\n",
       "      <th>2</th>\n",
       "      <td>os1701l2c064_ctd</td>\n",
       "      <td>72.491330</td>\n",
       "      <td>196.48666</td>\n",
       "      <td>2017-08-29 23:19:17+00:00</td>\n",
       "      <td>0.223941</td>\n",
       "      <td>32.5504</td>\n",
       "      <td>31.6019</td>\n",
       "      <td>31.6022</td>\n",
       "      <td>32.546200</td>\n",
       "      <td>32.112056</td>\n",
       "      <td>...</td>\n",
       "      <td>5.8983</td>\n",
       "      <td>5.0183</td>\n",
       "      <td>1.304533</td>\n",
       "      <td>4.446273</td>\n",
       "      <td>NaN</td>\n",
       "      <td>NaN</td>\n",
       "      <td>NaN</td>\n",
       "      <td>NaN</td>\n",
       "      <td>NaN</td>\n",
       "      <td>NaN</td>\n",
       "    </tr>\n",
       "    <tr>\n",
       "      <th>3</th>\n",
       "      <td>os1701l2c065_ctd</td>\n",
       "      <td>72.495670</td>\n",
       "      <td>198.10434</td>\n",
       "      <td>2017-08-30 14:19:35+00:00</td>\n",
       "      <td>14.630156</td>\n",
       "      <td>32.5710</td>\n",
       "      <td>31.0073</td>\n",
       "      <td>31.0073</td>\n",
       "      <td>32.569550</td>\n",
       "      <td>31.816744</td>\n",
       "      <td>...</td>\n",
       "      <td>5.7675</td>\n",
       "      <td>4.4769</td>\n",
       "      <td>2.343167</td>\n",
       "      <td>4.327334</td>\n",
       "      <td>NaN</td>\n",
       "      <td>4.717354</td>\n",
       "      <td>0.0</td>\n",
       "      <td>0.0</td>\n",
       "      <td>0.001100</td>\n",
       "      <td>0.0</td>\n",
       "    </tr>\n",
       "    <tr>\n",
       "      <th>4</th>\n",
       "      <td>os1701l2c066_ctd</td>\n",
       "      <td>72.499830</td>\n",
       "      <td>199.78917</td>\n",
       "      <td>2017-08-30 19:42:32+00:00</td>\n",
       "      <td>0.142064</td>\n",
       "      <td>32.4494</td>\n",
       "      <td>29.6893</td>\n",
       "      <td>29.6893</td>\n",
       "      <td>32.446683</td>\n",
       "      <td>31.365305</td>\n",
       "      <td>...</td>\n",
       "      <td>6.2960</td>\n",
       "      <td>3.4600</td>\n",
       "      <td>1.106867</td>\n",
       "      <td>3.759102</td>\n",
       "      <td>NaN</td>\n",
       "      <td>1.600600</td>\n",
       "      <td>0.0</td>\n",
       "      <td>0.0</td>\n",
       "      <td>0.000000</td>\n",
       "      <td>0.0</td>\n",
       "    </tr>\n",
       "  </tbody>\n",
       "</table>\n",
       "<p>5 rows × 21 columns</p>\n",
       "</div>"
      ],
      "text/plain": [
       "         profile_id   latitude  longitude                      time  \\\n",
       "0  os1701l2c062_ctd  72.498340  194.81616 2017-08-29 14:42:39+00:00   \n",
       "1  os1701l2c063_ctd  72.498665  196.49066 2017-08-29 22:39:37+00:00   \n",
       "2  os1701l2c064_ctd  72.491330  196.48666 2017-08-29 23:19:17+00:00   \n",
       "3  os1701l2c065_ctd  72.495670  198.10434 2017-08-30 14:19:35+00:00   \n",
       "4  os1701l2c066_ctd  72.499830  199.78917 2017-08-30 19:42:32+00:00   \n",
       "\n",
       "   TrackRadius    S_max    S_min   S_surf      S_bot     S_mean  ...   T_max  \\\n",
       "0    14.958053  32.6617  31.4536  31.4536  32.657567  32.186487  ...  6.6152   \n",
       "1     0.223941  32.5589  31.5288  31.5288  32.556367  32.064659  ...  6.0815   \n",
       "2     0.223941  32.5504  31.6019  31.6022  32.546200  32.112056  ...  5.8983   \n",
       "3    14.630156  32.5710  31.0073  31.0073  32.569550  31.816744  ...  5.7675   \n",
       "4     0.142064  32.4494  29.6893  29.6893  32.446683  31.365305  ...  6.2960   \n",
       "\n",
       "   T_surf     T_bot    T_mean     meanSa  meanAcod  meanScod  meanPcod  \\\n",
       "0  5.0051  1.892467  4.880304  35.644882  4.782810       0.0       0.0   \n",
       "1  4.9293  1.327800  3.948711        NaN  7.640446       0.0       0.0   \n",
       "2  5.0183  1.304533  4.446273        NaN       NaN       NaN       NaN   \n",
       "3  4.4769  2.343167  4.327334        NaN  4.717354       0.0       0.0   \n",
       "4  3.4600  1.106867  3.759102        NaN  1.600600       0.0       0.0   \n",
       "\n",
       "    meanPol  meanCap  \n",
       "0  0.000000      0.0  \n",
       "1  0.002856      0.0  \n",
       "2       NaN      NaN  \n",
       "3  0.001100      0.0  \n",
       "4  0.000000      0.0  \n",
       "\n",
       "[5 rows x 21 columns]"
      ]
     },
     "execution_count": 252,
     "metadata": {},
     "output_type": "execute_result"
    }
   ],
   "source": [
    "from tqdm import tqdm_notebook as tqdm\n",
    "dfStat = ctdStationRadius(dfCTD_clean)\n",
    "meanSa, meanAcod, meanScod, meanPcod, meanPol,meanCap = ([] for i in range(6))\n",
    "for  year in dfStat.time.dt.year.unique():\n",
    "    dfEnvCur = dfStat[dfStat.time.dt.year == year]\n",
    "    print(year)\n",
    "    if year == 2017:\n",
    "        dfFish = df2017Catch\n",
    "        dfAcoustics = df2017Acoustics\n",
    "    else:\n",
    "        dfFish = df2019Catch\n",
    "        dfAcoustics = df2019Acoustics\n",
    "    for i in tqdm(range(len(dfEnvCur))):\n",
    "        curSa, curAcod, curScod, curPcod, curPol,curCap = [[] for k in range(6)]\n",
    "        curSite = (dfEnvCur.latitude.values[i],dfEnvCur.longitude.values[i])        \n",
    "        curRad = dfEnvCur.TrackRadius.values[i]\n",
    "        for ii in range(len(dfFish)):\n",
    "            if distance(curSite,(dfFish.Latitude.values[ii],dfFish.Longitude.values[ii])).nm <= curRad:\n",
    "                curAcod.append(dfFish['Arctic cod (No. m^-2)'].values[ii])\n",
    "                curScod.append(dfFish['Saffron cod (No. m^-2)'].values[ii])\n",
    "                curPcod.append(dfFish['Pacific cod (No. m^-2)'].values[ii])\n",
    "                curPol.append(dfFish['Pollock (No. m^-2)'].values[ii])\n",
    "                curCap.append(dfFish['Capelin (No. m^-2)'].values[ii])\n",
    "        for ii in range(len(dfAcoustics)):\n",
    "            if distance(curSite,(dfAcoustics.Latitude.values[ii],dfAcoustics.Longitude.values[ii])).nm <= curRad:\n",
    "                curSa.append(dfAcoustics['Fish 38 kHz sA (m^2 nmi^-2)'].values[ii])\n",
    "        meanSa.append(np.nanmean(curSa))\n",
    "        meanAcod.append(np.nanmean(curAcod))\n",
    "        meanScod.append(np.nanmean(curScod))\n",
    "        meanPcod.append(np.nanmean(curPcod))\n",
    "        meanPol.append(np.nanmean(curPol))\n",
    "        meanCap.append(np.nanmean(curCap))\n",
    "dfStat['meanSa'] = meanSa\n",
    "dfStat['meanAcod'] = meanAcod\n",
    "dfStat['meanScod'] = meanScod\n",
    "dfStat['meanPcod'] = meanPcod\n",
    "dfStat['meanPol'] = meanPol\n",
    "dfStat['meanCap'] = meanCap\n",
    "dfStat.to_csv('analysisFiles/dfStat.csv')"
   ]
  },
  {
   "cell_type": "code",
   "execution_count": 255,
   "metadata": {},
   "outputs": [],
   "source": [
    "dfStat2017 = dfStat[dfStat.time.dt.year == 2017]\n",
    "dfStat2019 = dfStat[dfStat.time.dt.year == 2019]"
   ]
  },
  {
   "cell_type": "code",
   "execution_count": 262,
   "metadata": {},
   "outputs": [
    {
     "data": {
      "text/plain": [
       "<matplotlib.collections.PathCollection at 0x1903fd66820>"
      ]
     },
     "execution_count": 262,
     "metadata": {},
     "output_type": "execute_result"
    },
    {
     "data": {
      "image/png": "[encoded data removed]",
      "text/plain": [
       "<Figure size 432x288 with 2 Axes>"
      ]
     },
     "metadata": {
      "needs_background": "light"
     },
     "output_type": "display_data"
    }
   ],
   "source": [
    "import matplotlib.pyplot as plt\n",
    "fig, [ax1,ax2] = plt.subplots(1,2)\n",
    "ax1.scatter(dfStat2017.longitude, dfStat2017.latitude, c=np.log(dfStat2017.meanPcod))\n",
    "ax2.scatter(dfStat2019.longitude, dfStat2019.latitude, c=np.log(dfStat2019.meanPcod))"
   ]
  },
  {
   "cell_type": "code",
   "execution_count": 282,
   "metadata": {},
   "outputs": [
    {
     "data": {
      "image/png": "[encoded data removed]",
      "text/plain": [
       "<Figure size 576x576 with 1 Axes>"
      ]
     },
     "metadata": {
      "needs_background": "light"
     },
     "output_type": "display_data"
    }
   ],
   "source": [
    "from matplotlib.lines import Line2D\n",
    "fig = plt.figure(figsize=(8,8))\n",
    "plt.scatter(dfStat.S_mean,dfStat.T_mean,s=(dfStat.meanAcod*100),facecolors='none', edgecolors='green')\n",
    "plt.scatter(dfStat.S_mean,dfStat.T_mean,s=(dfStat.meanPol*100),facecolors='none', edgecolors='purple')\n",
    "#plt.scatter(dfStat.S_surf,dfStat.T_surf,s=(dfStat.meanScod**5),c='r')\n",
    "#plt.scatter(dfStat.S_surf,dfStat.T_surf,s=(dfStat.meanPcod**5),c='k')\n",
    "plt.tick_params(labelsize=14)\n",
    "plt.xlabel('Salinity',fontsize=14)\n",
    "plt.ylabel('Temperture ($^{\\circ}$C)',fontsize=14);"
   ]
  },
  {
   "cell_type": "code",
   "execution_count": 293,
   "metadata": {},
   "outputs": [
    {
     "data": {
      "image/png": "[encoded data removed]",
      "text/plain": [
       "<Figure size 144x144 with 1 Axes>"
      ]
     },
     "metadata": {},
     "output_type": "display_data"
    }
   ],
   "source": [
    "plt.figure(figsize=(2,2))\n",
    "plt.scatter(27,7,.01*100,facecolors='none', edgecolors='k')\n",
    "plt.scatter(27,7.2,.1*100,facecolors='none', edgecolors='k')\n",
    "plt.scatter(27,7.5,1*100,facecolors='none', edgecolors='k')\n",
    "plt.scatter(27,7.9,5*100,facecolors='none', edgecolors='k')\n",
    "plt.text(26.8,8.2,'Fish m$^{-2}$',fontsize=12)\n",
    "plt.text(27.2,6.9,'0.001',fontsize=12)\n",
    "plt.text(27.2,7.15,'0.1',fontsize=12)\n",
    "plt.text(27.2,7.45,'1',fontsize=12)\n",
    "plt.text(27.2,7.8,'5',fontsize=12)\n",
    "plt.axis([26.5,27.8,6.8,8.5])\n",
    "plt.tick_params(\n",
    "    axis='both',          # changes apply to the x-axis\n",
    "    which='both',      # both major and minor ticks are affected\n",
    "    bottom=False,      # ticks along the bottom edge are off\n",
    "    left=False,\n",
    "    top=False,         # ticks along the top edge are off\n",
    "    labelbottom=False,\n",
    "    labelleft=False) # labels along the bottom edge are off"
   ]
  }
 ],
 "metadata": {
  "kernelspec": {
   "display_name": "Python 3",
   "language": "python",
   "name": "python3"
  },
  "language_info": {
   "codemirror_mode": {
    "name": "ipython",
    "version": 3
   },
   "file_extension": ".py",
   "mimetype": "text/x-python",
   "name": "python",
   "nbconvert_exporter": "python",
   "pygments_lexer": "ipython3",
   "version": "3.8.5"
  }
 },
 "nbformat": 4,
 "nbformat_minor": 4
}
